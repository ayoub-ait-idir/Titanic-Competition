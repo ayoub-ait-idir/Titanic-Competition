{
  "nbformat": 4,
  "nbformat_minor": 0,
  "metadata": {
    "colab": {
      "name": "Titanic Competition.ipynb",
      "provenance": [],
      "collapsed_sections": [],
      "authorship_tag": "ABX9TyMv/wXWw9pd/+GMeAR2/32Q",
      "include_colab_link": true
    },
    "kernelspec": {
      "name": "python3",
      "display_name": "Python 3"
    },
    "language_info": {
      "name": "python"
    }
  },
  "cells": [
    {
      "cell_type": "markdown",
      "metadata": {
        "id": "view-in-github",
        "colab_type": "text"
      },
      "source": [
        "<a href=\"https://colab.research.google.com/github/ayoub-ait-idir/Titanic-Competition/blob/main/Titanic_Competition.ipynb\" target=\"_parent\"><img src=\"https://colab.research.google.com/assets/colab-badge.svg\" alt=\"Open In Colab\"/></a>"
      ]
    },
    {
      "cell_type": "markdown",
      "metadata": {
        "id": "XLbuc-ztczzb"
      },
      "source": [
        "# Clone Repo"
      ]
    },
    {
      "cell_type": "code",
      "metadata": {
        "colab": {
          "base_uri": "https://localhost:8080/"
        },
        "id": "nU_iDJ9PYmBN",
        "outputId": "11aa19f1-3bca-4ee7-86c7-1503780680e6"
      },
      "source": [
        "! pwd"
      ],
      "execution_count": 300,
      "outputs": [
        {
          "output_type": "stream",
          "text": [
            "/content/Titanic-Competition/Titanic-Competition\n"
          ],
          "name": "stdout"
        }
      ]
    },
    {
      "cell_type": "code",
      "metadata": {
        "id": "B9ZHz8Fehpm1",
        "colab": {
          "base_uri": "https://localhost:8080/"
        },
        "outputId": "6dc953c6-7124-45e6-c1dc-ae15aa23b007"
      },
      "source": [
        "! git clone https://github.com/ayoub-ait-idir/Titanic-Competition.git"
      ],
      "execution_count": 301,
      "outputs": [
        {
          "output_type": "stream",
          "text": [
            "fatal: destination path 'Titanic-Competition' already exists and is not an empty directory.\n"
          ],
          "name": "stdout"
        }
      ]
    },
    {
      "cell_type": "code",
      "metadata": {
        "colab": {
          "base_uri": "https://localhost:8080/"
        },
        "id": "fRSY8CO5iIEL",
        "outputId": "40f93fc6-6ef9-4c48-a1fd-c5b391493647"
      },
      "source": [
        "cd /content/Titanic-Competition"
      ],
      "execution_count": 302,
      "outputs": [
        {
          "output_type": "stream",
          "text": [
            "/content/Titanic-Competition\n"
          ],
          "name": "stdout"
        }
      ]
    },
    {
      "cell_type": "code",
      "metadata": {
        "colab": {
          "base_uri": "https://localhost:8080/"
        },
        "id": "8zLnjfvuiY2j",
        "outputId": "d5602d3c-c0e7-4083-84fc-af140df0cf61"
      },
      "source": [
        "!ls"
      ],
      "execution_count": 303,
      "outputs": [
        {
          "output_type": "stream",
          "text": [
            "gender_submission.csv  Titanic-Competition\t  train.csv\n",
            "test.csv\t       Titanic_Competition.ipynb\n"
          ],
          "name": "stdout"
        }
      ]
    },
    {
      "cell_type": "code",
      "metadata": {
        "id": "TAvlvoawjldQ"
      },
      "source": [
        "!rm -rf README.md"
      ],
      "execution_count": 304,
      "outputs": []
    },
    {
      "cell_type": "code",
      "metadata": {
        "colab": {
          "base_uri": "https://localhost:8080/"
        },
        "id": "cGsZj4iJjrlr",
        "outputId": "dfd7fd52-84d2-4b89-98be-b6e9ab755217"
      },
      "source": [
        "!ls"
      ],
      "execution_count": 305,
      "outputs": [
        {
          "output_type": "stream",
          "text": [
            "gender_submission.csv  Titanic-Competition\t  train.csv\n",
            "test.csv\t       Titanic_Competition.ipynb\n"
          ],
          "name": "stdout"
        }
      ]
    },
    {
      "cell_type": "code",
      "metadata": {
        "colab": {
          "base_uri": "https://localhost:8080/"
        },
        "id": "R44OIXh1jtxj",
        "outputId": "0f1bf188-9cf6-4163-9357-fd413dda33fe"
      },
      "source": [
        "cd /content/Titanic-Competition/Titanic-Competition"
      ],
      "execution_count": 306,
      "outputs": [
        {
          "output_type": "stream",
          "text": [
            "/content/Titanic-Competition/Titanic-Competition\n"
          ],
          "name": "stdout"
        }
      ]
    },
    {
      "cell_type": "code",
      "metadata": {
        "colab": {
          "base_uri": "https://localhost:8080/"
        },
        "id": "FtUoafu0jx6r",
        "outputId": "cef2e6a6-db71-4aff-9a5a-295c7b106de5"
      },
      "source": [
        "!ls"
      ],
      "execution_count": 307,
      "outputs": [
        {
          "output_type": "stream",
          "text": [
            "gender_submission.csv  test.csv\t\t    Titanic_Competition.ipynb\n",
            "README.md\t       Titanic-Competition  train.csv\n"
          ],
          "name": "stdout"
        }
      ]
    },
    {
      "cell_type": "markdown",
      "metadata": {
        "id": "gPVk2Fj-mjEd"
      },
      "source": [
        "# Import Packages"
      ]
    },
    {
      "cell_type": "code",
      "metadata": {
        "id": "YwwlrM3omrSS"
      },
      "source": [
        "import numpy as np\n",
        "import pandas as pd\n",
        "import seaborn as sns\n",
        "import matplotlib.pyplot as plt\n"
      ],
      "execution_count": 308,
      "outputs": []
    },
    {
      "cell_type": "markdown",
      "metadata": {
        "id": "QmpYTYBGmpCp"
      },
      "source": [
        "# Import Data"
      ]
    },
    {
      "cell_type": "code",
      "metadata": {
        "id": "j0TjQHkMnq6k"
      },
      "source": [
        "# import train and test data\n",
        "train = pd.read_csv('/content/Titanic-Competition/train.csv')\n",
        "test  = pd.read_csv('/content/Titanic-Competition/test.csv')\n",
        "gender_submission = pd.read_csv('/content/Titanic-Competition/gender_submission.csv')"
      ],
      "execution_count": 309,
      "outputs": []
    },
    {
      "cell_type": "code",
      "metadata": {
        "colab": {
          "base_uri": "https://localhost:8080/",
          "height": 0
        },
        "id": "jC3egjlbn9b4",
        "outputId": "c7f9ccf2-b98c-44bc-c052-2e8b921f94b6"
      },
      "source": [
        "# View train Data\n",
        "train.head()"
      ],
      "execution_count": 310,
      "outputs": [
        {
          "output_type": "execute_result",
          "data": {
            "text/html": [
              "<div>\n",
              "<style scoped>\n",
              "    .dataframe tbody tr th:only-of-type {\n",
              "        vertical-align: middle;\n",
              "    }\n",
              "\n",
              "    .dataframe tbody tr th {\n",
              "        vertical-align: top;\n",
              "    }\n",
              "\n",
              "    .dataframe thead th {\n",
              "        text-align: right;\n",
              "    }\n",
              "</style>\n",
              "<table border=\"1\" class=\"dataframe\">\n",
              "  <thead>\n",
              "    <tr style=\"text-align: right;\">\n",
              "      <th></th>\n",
              "      <th>PassengerId</th>\n",
              "      <th>Survived</th>\n",
              "      <th>Pclass</th>\n",
              "      <th>Name</th>\n",
              "      <th>Sex</th>\n",
              "      <th>Age</th>\n",
              "      <th>SibSp</th>\n",
              "      <th>Parch</th>\n",
              "      <th>Ticket</th>\n",
              "      <th>Fare</th>\n",
              "      <th>Cabin</th>\n",
              "      <th>Embarked</th>\n",
              "    </tr>\n",
              "  </thead>\n",
              "  <tbody>\n",
              "    <tr>\n",
              "      <th>0</th>\n",
              "      <td>1</td>\n",
              "      <td>0</td>\n",
              "      <td>3</td>\n",
              "      <td>Braund, Mr. Owen Harris</td>\n",
              "      <td>male</td>\n",
              "      <td>22.0</td>\n",
              "      <td>1</td>\n",
              "      <td>0</td>\n",
              "      <td>A/5 21171</td>\n",
              "      <td>7.2500</td>\n",
              "      <td>NaN</td>\n",
              "      <td>S</td>\n",
              "    </tr>\n",
              "    <tr>\n",
              "      <th>1</th>\n",
              "      <td>2</td>\n",
              "      <td>1</td>\n",
              "      <td>1</td>\n",
              "      <td>Cumings, Mrs. John Bradley (Florence Briggs Th...</td>\n",
              "      <td>female</td>\n",
              "      <td>38.0</td>\n",
              "      <td>1</td>\n",
              "      <td>0</td>\n",
              "      <td>PC 17599</td>\n",
              "      <td>71.2833</td>\n",
              "      <td>C85</td>\n",
              "      <td>C</td>\n",
              "    </tr>\n",
              "    <tr>\n",
              "      <th>2</th>\n",
              "      <td>3</td>\n",
              "      <td>1</td>\n",
              "      <td>3</td>\n",
              "      <td>Heikkinen, Miss. Laina</td>\n",
              "      <td>female</td>\n",
              "      <td>26.0</td>\n",
              "      <td>0</td>\n",
              "      <td>0</td>\n",
              "      <td>STON/O2. 3101282</td>\n",
              "      <td>7.9250</td>\n",
              "      <td>NaN</td>\n",
              "      <td>S</td>\n",
              "    </tr>\n",
              "    <tr>\n",
              "      <th>3</th>\n",
              "      <td>4</td>\n",
              "      <td>1</td>\n",
              "      <td>1</td>\n",
              "      <td>Futrelle, Mrs. Jacques Heath (Lily May Peel)</td>\n",
              "      <td>female</td>\n",
              "      <td>35.0</td>\n",
              "      <td>1</td>\n",
              "      <td>0</td>\n",
              "      <td>113803</td>\n",
              "      <td>53.1000</td>\n",
              "      <td>C123</td>\n",
              "      <td>S</td>\n",
              "    </tr>\n",
              "    <tr>\n",
              "      <th>4</th>\n",
              "      <td>5</td>\n",
              "      <td>0</td>\n",
              "      <td>3</td>\n",
              "      <td>Allen, Mr. William Henry</td>\n",
              "      <td>male</td>\n",
              "      <td>35.0</td>\n",
              "      <td>0</td>\n",
              "      <td>0</td>\n",
              "      <td>373450</td>\n",
              "      <td>8.0500</td>\n",
              "      <td>NaN</td>\n",
              "      <td>S</td>\n",
              "    </tr>\n",
              "  </tbody>\n",
              "</table>\n",
              "</div>"
            ],
            "text/plain": [
              "   PassengerId  Survived  Pclass  ...     Fare Cabin  Embarked\n",
              "0            1         0       3  ...   7.2500   NaN         S\n",
              "1            2         1       1  ...  71.2833   C85         C\n",
              "2            3         1       3  ...   7.9250   NaN         S\n",
              "3            4         1       1  ...  53.1000  C123         S\n",
              "4            5         0       3  ...   8.0500   NaN         S\n",
              "\n",
              "[5 rows x 12 columns]"
            ]
          },
          "metadata": {
            "tags": []
          },
          "execution_count": 310
        }
      ]
    },
    {
      "cell_type": "code",
      "metadata": {
        "colab": {
          "base_uri": "https://localhost:8080/",
          "height": 0
        },
        "id": "_jsXmdtKoSzt",
        "outputId": "b2fb2b50-93ba-4c78-84bc-4b8061f84460"
      },
      "source": [
        "# View test Data\n",
        "test.head()"
      ],
      "execution_count": 311,
      "outputs": [
        {
          "output_type": "execute_result",
          "data": {
            "text/html": [
              "<div>\n",
              "<style scoped>\n",
              "    .dataframe tbody tr th:only-of-type {\n",
              "        vertical-align: middle;\n",
              "    }\n",
              "\n",
              "    .dataframe tbody tr th {\n",
              "        vertical-align: top;\n",
              "    }\n",
              "\n",
              "    .dataframe thead th {\n",
              "        text-align: right;\n",
              "    }\n",
              "</style>\n",
              "<table border=\"1\" class=\"dataframe\">\n",
              "  <thead>\n",
              "    <tr style=\"text-align: right;\">\n",
              "      <th></th>\n",
              "      <th>PassengerId</th>\n",
              "      <th>Pclass</th>\n",
              "      <th>Name</th>\n",
              "      <th>Sex</th>\n",
              "      <th>Age</th>\n",
              "      <th>SibSp</th>\n",
              "      <th>Parch</th>\n",
              "      <th>Ticket</th>\n",
              "      <th>Fare</th>\n",
              "      <th>Cabin</th>\n",
              "      <th>Embarked</th>\n",
              "    </tr>\n",
              "  </thead>\n",
              "  <tbody>\n",
              "    <tr>\n",
              "      <th>0</th>\n",
              "      <td>892</td>\n",
              "      <td>3</td>\n",
              "      <td>Kelly, Mr. James</td>\n",
              "      <td>male</td>\n",
              "      <td>34.5</td>\n",
              "      <td>0</td>\n",
              "      <td>0</td>\n",
              "      <td>330911</td>\n",
              "      <td>7.8292</td>\n",
              "      <td>NaN</td>\n",
              "      <td>Q</td>\n",
              "    </tr>\n",
              "    <tr>\n",
              "      <th>1</th>\n",
              "      <td>893</td>\n",
              "      <td>3</td>\n",
              "      <td>Wilkes, Mrs. James (Ellen Needs)</td>\n",
              "      <td>female</td>\n",
              "      <td>47.0</td>\n",
              "      <td>1</td>\n",
              "      <td>0</td>\n",
              "      <td>363272</td>\n",
              "      <td>7.0000</td>\n",
              "      <td>NaN</td>\n",
              "      <td>S</td>\n",
              "    </tr>\n",
              "    <tr>\n",
              "      <th>2</th>\n",
              "      <td>894</td>\n",
              "      <td>2</td>\n",
              "      <td>Myles, Mr. Thomas Francis</td>\n",
              "      <td>male</td>\n",
              "      <td>62.0</td>\n",
              "      <td>0</td>\n",
              "      <td>0</td>\n",
              "      <td>240276</td>\n",
              "      <td>9.6875</td>\n",
              "      <td>NaN</td>\n",
              "      <td>Q</td>\n",
              "    </tr>\n",
              "    <tr>\n",
              "      <th>3</th>\n",
              "      <td>895</td>\n",
              "      <td>3</td>\n",
              "      <td>Wirz, Mr. Albert</td>\n",
              "      <td>male</td>\n",
              "      <td>27.0</td>\n",
              "      <td>0</td>\n",
              "      <td>0</td>\n",
              "      <td>315154</td>\n",
              "      <td>8.6625</td>\n",
              "      <td>NaN</td>\n",
              "      <td>S</td>\n",
              "    </tr>\n",
              "    <tr>\n",
              "      <th>4</th>\n",
              "      <td>896</td>\n",
              "      <td>3</td>\n",
              "      <td>Hirvonen, Mrs. Alexander (Helga E Lindqvist)</td>\n",
              "      <td>female</td>\n",
              "      <td>22.0</td>\n",
              "      <td>1</td>\n",
              "      <td>1</td>\n",
              "      <td>3101298</td>\n",
              "      <td>12.2875</td>\n",
              "      <td>NaN</td>\n",
              "      <td>S</td>\n",
              "    </tr>\n",
              "  </tbody>\n",
              "</table>\n",
              "</div>"
            ],
            "text/plain": [
              "   PassengerId  Pclass  ... Cabin Embarked\n",
              "0          892       3  ...   NaN        Q\n",
              "1          893       3  ...   NaN        S\n",
              "2          894       2  ...   NaN        Q\n",
              "3          895       3  ...   NaN        S\n",
              "4          896       3  ...   NaN        S\n",
              "\n",
              "[5 rows x 11 columns]"
            ]
          },
          "metadata": {
            "tags": []
          },
          "execution_count": 311
        }
      ]
    },
    {
      "cell_type": "code",
      "metadata": {
        "colab": {
          "base_uri": "https://localhost:8080/",
          "height": 0
        },
        "id": "uxsn-HKAogfL",
        "outputId": "c11a7118-7504-4733-9263-47d9498ff752"
      },
      "source": [
        "# View gender submession Data\n",
        "gender_submission.head()"
      ],
      "execution_count": 312,
      "outputs": [
        {
          "output_type": "execute_result",
          "data": {
            "text/html": [
              "<div>\n",
              "<style scoped>\n",
              "    .dataframe tbody tr th:only-of-type {\n",
              "        vertical-align: middle;\n",
              "    }\n",
              "\n",
              "    .dataframe tbody tr th {\n",
              "        vertical-align: top;\n",
              "    }\n",
              "\n",
              "    .dataframe thead th {\n",
              "        text-align: right;\n",
              "    }\n",
              "</style>\n",
              "<table border=\"1\" class=\"dataframe\">\n",
              "  <thead>\n",
              "    <tr style=\"text-align: right;\">\n",
              "      <th></th>\n",
              "      <th>PassengerId</th>\n",
              "      <th>Survived</th>\n",
              "    </tr>\n",
              "  </thead>\n",
              "  <tbody>\n",
              "    <tr>\n",
              "      <th>0</th>\n",
              "      <td>892</td>\n",
              "      <td>0</td>\n",
              "    </tr>\n",
              "    <tr>\n",
              "      <th>1</th>\n",
              "      <td>893</td>\n",
              "      <td>1</td>\n",
              "    </tr>\n",
              "    <tr>\n",
              "      <th>2</th>\n",
              "      <td>894</td>\n",
              "      <td>0</td>\n",
              "    </tr>\n",
              "    <tr>\n",
              "      <th>3</th>\n",
              "      <td>895</td>\n",
              "      <td>0</td>\n",
              "    </tr>\n",
              "    <tr>\n",
              "      <th>4</th>\n",
              "      <td>896</td>\n",
              "      <td>1</td>\n",
              "    </tr>\n",
              "  </tbody>\n",
              "</table>\n",
              "</div>"
            ],
            "text/plain": [
              "   PassengerId  Survived\n",
              "0          892         0\n",
              "1          893         1\n",
              "2          894         0\n",
              "3          895         0\n",
              "4          896         1"
            ]
          },
          "metadata": {
            "tags": []
          },
          "execution_count": 312
        }
      ]
    },
    {
      "cell_type": "code",
      "metadata": {
        "colab": {
          "base_uri": "https://localhost:8080/",
          "height": 0
        },
        "id": "o0k4ko2Aom8v",
        "outputId": "71964051-7ec0-4871-a89d-6fdff2eb781a"
      },
      "source": [
        "train.describe()"
      ],
      "execution_count": 313,
      "outputs": [
        {
          "output_type": "execute_result",
          "data": {
            "text/html": [
              "<div>\n",
              "<style scoped>\n",
              "    .dataframe tbody tr th:only-of-type {\n",
              "        vertical-align: middle;\n",
              "    }\n",
              "\n",
              "    .dataframe tbody tr th {\n",
              "        vertical-align: top;\n",
              "    }\n",
              "\n",
              "    .dataframe thead th {\n",
              "        text-align: right;\n",
              "    }\n",
              "</style>\n",
              "<table border=\"1\" class=\"dataframe\">\n",
              "  <thead>\n",
              "    <tr style=\"text-align: right;\">\n",
              "      <th></th>\n",
              "      <th>PassengerId</th>\n",
              "      <th>Survived</th>\n",
              "      <th>Pclass</th>\n",
              "      <th>Age</th>\n",
              "      <th>SibSp</th>\n",
              "      <th>Parch</th>\n",
              "      <th>Fare</th>\n",
              "    </tr>\n",
              "  </thead>\n",
              "  <tbody>\n",
              "    <tr>\n",
              "      <th>count</th>\n",
              "      <td>891.000000</td>\n",
              "      <td>891.000000</td>\n",
              "      <td>891.000000</td>\n",
              "      <td>714.000000</td>\n",
              "      <td>891.000000</td>\n",
              "      <td>891.000000</td>\n",
              "      <td>891.000000</td>\n",
              "    </tr>\n",
              "    <tr>\n",
              "      <th>mean</th>\n",
              "      <td>446.000000</td>\n",
              "      <td>0.383838</td>\n",
              "      <td>2.308642</td>\n",
              "      <td>29.699118</td>\n",
              "      <td>0.523008</td>\n",
              "      <td>0.381594</td>\n",
              "      <td>32.204208</td>\n",
              "    </tr>\n",
              "    <tr>\n",
              "      <th>std</th>\n",
              "      <td>257.353842</td>\n",
              "      <td>0.486592</td>\n",
              "      <td>0.836071</td>\n",
              "      <td>14.526497</td>\n",
              "      <td>1.102743</td>\n",
              "      <td>0.806057</td>\n",
              "      <td>49.693429</td>\n",
              "    </tr>\n",
              "    <tr>\n",
              "      <th>min</th>\n",
              "      <td>1.000000</td>\n",
              "      <td>0.000000</td>\n",
              "      <td>1.000000</td>\n",
              "      <td>0.420000</td>\n",
              "      <td>0.000000</td>\n",
              "      <td>0.000000</td>\n",
              "      <td>0.000000</td>\n",
              "    </tr>\n",
              "    <tr>\n",
              "      <th>25%</th>\n",
              "      <td>223.500000</td>\n",
              "      <td>0.000000</td>\n",
              "      <td>2.000000</td>\n",
              "      <td>20.125000</td>\n",
              "      <td>0.000000</td>\n",
              "      <td>0.000000</td>\n",
              "      <td>7.910400</td>\n",
              "    </tr>\n",
              "    <tr>\n",
              "      <th>50%</th>\n",
              "      <td>446.000000</td>\n",
              "      <td>0.000000</td>\n",
              "      <td>3.000000</td>\n",
              "      <td>28.000000</td>\n",
              "      <td>0.000000</td>\n",
              "      <td>0.000000</td>\n",
              "      <td>14.454200</td>\n",
              "    </tr>\n",
              "    <tr>\n",
              "      <th>75%</th>\n",
              "      <td>668.500000</td>\n",
              "      <td>1.000000</td>\n",
              "      <td>3.000000</td>\n",
              "      <td>38.000000</td>\n",
              "      <td>1.000000</td>\n",
              "      <td>0.000000</td>\n",
              "      <td>31.000000</td>\n",
              "    </tr>\n",
              "    <tr>\n",
              "      <th>max</th>\n",
              "      <td>891.000000</td>\n",
              "      <td>1.000000</td>\n",
              "      <td>3.000000</td>\n",
              "      <td>80.000000</td>\n",
              "      <td>8.000000</td>\n",
              "      <td>6.000000</td>\n",
              "      <td>512.329200</td>\n",
              "    </tr>\n",
              "  </tbody>\n",
              "</table>\n",
              "</div>"
            ],
            "text/plain": [
              "       PassengerId    Survived      Pclass  ...       SibSp       Parch        Fare\n",
              "count   891.000000  891.000000  891.000000  ...  891.000000  891.000000  891.000000\n",
              "mean    446.000000    0.383838    2.308642  ...    0.523008    0.381594   32.204208\n",
              "std     257.353842    0.486592    0.836071  ...    1.102743    0.806057   49.693429\n",
              "min       1.000000    0.000000    1.000000  ...    0.000000    0.000000    0.000000\n",
              "25%     223.500000    0.000000    2.000000  ...    0.000000    0.000000    7.910400\n",
              "50%     446.000000    0.000000    3.000000  ...    0.000000    0.000000   14.454200\n",
              "75%     668.500000    1.000000    3.000000  ...    1.000000    0.000000   31.000000\n",
              "max     891.000000    1.000000    3.000000  ...    8.000000    6.000000  512.329200\n",
              "\n",
              "[8 rows x 7 columns]"
            ]
          },
          "metadata": {
            "tags": []
          },
          "execution_count": 313
        }
      ]
    },
    {
      "cell_type": "code",
      "metadata": {
        "colab": {
          "base_uri": "https://localhost:8080/"
        },
        "id": "2VanYgD1pgEI",
        "outputId": "6bc1bfc0-0bdb-4042-854b-fbb993c7fbb6"
      },
      "source": [
        "train.info()"
      ],
      "execution_count": 314,
      "outputs": [
        {
          "output_type": "stream",
          "text": [
            "<class 'pandas.core.frame.DataFrame'>\n",
            "RangeIndex: 891 entries, 0 to 890\n",
            "Data columns (total 12 columns):\n",
            " #   Column       Non-Null Count  Dtype  \n",
            "---  ------       --------------  -----  \n",
            " 0   PassengerId  891 non-null    int64  \n",
            " 1   Survived     891 non-null    int64  \n",
            " 2   Pclass       891 non-null    int64  \n",
            " 3   Name         891 non-null    object \n",
            " 4   Sex          891 non-null    object \n",
            " 5   Age          714 non-null    float64\n",
            " 6   SibSp        891 non-null    int64  \n",
            " 7   Parch        891 non-null    int64  \n",
            " 8   Ticket       891 non-null    object \n",
            " 9   Fare         891 non-null    float64\n",
            " 10  Cabin        204 non-null    object \n",
            " 11  Embarked     889 non-null    object \n",
            "dtypes: float64(2), int64(5), object(5)\n",
            "memory usage: 83.7+ KB\n"
          ],
          "name": "stdout"
        }
      ]
    },
    {
      "cell_type": "code",
      "metadata": {
        "colab": {
          "base_uri": "https://localhost:8080/",
          "height": 0
        },
        "id": "_pelCKiGpOXR",
        "outputId": "197f6813-b5dc-4c40-cb0e-08b291b9b21d"
      },
      "source": [
        "test.describe()"
      ],
      "execution_count": 315,
      "outputs": [
        {
          "output_type": "execute_result",
          "data": {
            "text/html": [
              "<div>\n",
              "<style scoped>\n",
              "    .dataframe tbody tr th:only-of-type {\n",
              "        vertical-align: middle;\n",
              "    }\n",
              "\n",
              "    .dataframe tbody tr th {\n",
              "        vertical-align: top;\n",
              "    }\n",
              "\n",
              "    .dataframe thead th {\n",
              "        text-align: right;\n",
              "    }\n",
              "</style>\n",
              "<table border=\"1\" class=\"dataframe\">\n",
              "  <thead>\n",
              "    <tr style=\"text-align: right;\">\n",
              "      <th></th>\n",
              "      <th>PassengerId</th>\n",
              "      <th>Pclass</th>\n",
              "      <th>Age</th>\n",
              "      <th>SibSp</th>\n",
              "      <th>Parch</th>\n",
              "      <th>Fare</th>\n",
              "    </tr>\n",
              "  </thead>\n",
              "  <tbody>\n",
              "    <tr>\n",
              "      <th>count</th>\n",
              "      <td>418.000000</td>\n",
              "      <td>418.000000</td>\n",
              "      <td>332.000000</td>\n",
              "      <td>418.000000</td>\n",
              "      <td>418.000000</td>\n",
              "      <td>417.000000</td>\n",
              "    </tr>\n",
              "    <tr>\n",
              "      <th>mean</th>\n",
              "      <td>1100.500000</td>\n",
              "      <td>2.265550</td>\n",
              "      <td>30.272590</td>\n",
              "      <td>0.447368</td>\n",
              "      <td>0.392344</td>\n",
              "      <td>35.627188</td>\n",
              "    </tr>\n",
              "    <tr>\n",
              "      <th>std</th>\n",
              "      <td>120.810458</td>\n",
              "      <td>0.841838</td>\n",
              "      <td>14.181209</td>\n",
              "      <td>0.896760</td>\n",
              "      <td>0.981429</td>\n",
              "      <td>55.907576</td>\n",
              "    </tr>\n",
              "    <tr>\n",
              "      <th>min</th>\n",
              "      <td>892.000000</td>\n",
              "      <td>1.000000</td>\n",
              "      <td>0.170000</td>\n",
              "      <td>0.000000</td>\n",
              "      <td>0.000000</td>\n",
              "      <td>0.000000</td>\n",
              "    </tr>\n",
              "    <tr>\n",
              "      <th>25%</th>\n",
              "      <td>996.250000</td>\n",
              "      <td>1.000000</td>\n",
              "      <td>21.000000</td>\n",
              "      <td>0.000000</td>\n",
              "      <td>0.000000</td>\n",
              "      <td>7.895800</td>\n",
              "    </tr>\n",
              "    <tr>\n",
              "      <th>50%</th>\n",
              "      <td>1100.500000</td>\n",
              "      <td>3.000000</td>\n",
              "      <td>27.000000</td>\n",
              "      <td>0.000000</td>\n",
              "      <td>0.000000</td>\n",
              "      <td>14.454200</td>\n",
              "    </tr>\n",
              "    <tr>\n",
              "      <th>75%</th>\n",
              "      <td>1204.750000</td>\n",
              "      <td>3.000000</td>\n",
              "      <td>39.000000</td>\n",
              "      <td>1.000000</td>\n",
              "      <td>0.000000</td>\n",
              "      <td>31.500000</td>\n",
              "    </tr>\n",
              "    <tr>\n",
              "      <th>max</th>\n",
              "      <td>1309.000000</td>\n",
              "      <td>3.000000</td>\n",
              "      <td>76.000000</td>\n",
              "      <td>8.000000</td>\n",
              "      <td>9.000000</td>\n",
              "      <td>512.329200</td>\n",
              "    </tr>\n",
              "  </tbody>\n",
              "</table>\n",
              "</div>"
            ],
            "text/plain": [
              "       PassengerId      Pclass         Age       SibSp       Parch        Fare\n",
              "count   418.000000  418.000000  332.000000  418.000000  418.000000  417.000000\n",
              "mean   1100.500000    2.265550   30.272590    0.447368    0.392344   35.627188\n",
              "std     120.810458    0.841838   14.181209    0.896760    0.981429   55.907576\n",
              "min     892.000000    1.000000    0.170000    0.000000    0.000000    0.000000\n",
              "25%     996.250000    1.000000   21.000000    0.000000    0.000000    7.895800\n",
              "50%    1100.500000    3.000000   27.000000    0.000000    0.000000   14.454200\n",
              "75%    1204.750000    3.000000   39.000000    1.000000    0.000000   31.500000\n",
              "max    1309.000000    3.000000   76.000000    8.000000    9.000000  512.329200"
            ]
          },
          "metadata": {
            "tags": []
          },
          "execution_count": 315
        }
      ]
    },
    {
      "cell_type": "code",
      "metadata": {
        "colab": {
          "base_uri": "https://localhost:8080/"
        },
        "id": "RBts7fBBpeQe",
        "outputId": "6581d4df-f528-419a-8182-e82994ebaa3b"
      },
      "source": [
        "test.info()"
      ],
      "execution_count": 316,
      "outputs": [
        {
          "output_type": "stream",
          "text": [
            "<class 'pandas.core.frame.DataFrame'>\n",
            "RangeIndex: 418 entries, 0 to 417\n",
            "Data columns (total 11 columns):\n",
            " #   Column       Non-Null Count  Dtype  \n",
            "---  ------       --------------  -----  \n",
            " 0   PassengerId  418 non-null    int64  \n",
            " 1   Pclass       418 non-null    int64  \n",
            " 2   Name         418 non-null    object \n",
            " 3   Sex          418 non-null    object \n",
            " 4   Age          332 non-null    float64\n",
            " 5   SibSp        418 non-null    int64  \n",
            " 6   Parch        418 non-null    int64  \n",
            " 7   Ticket       418 non-null    object \n",
            " 8   Fare         417 non-null    float64\n",
            " 9   Cabin        91 non-null     object \n",
            " 10  Embarked     418 non-null    object \n",
            "dtypes: float64(2), int64(4), object(5)\n",
            "memory usage: 36.0+ KB\n"
          ],
          "name": "stdout"
        }
      ]
    },
    {
      "cell_type": "markdown",
      "metadata": {
        "id": "Li9ZqfpLqu_B"
      },
      "source": [
        "# Repetitive Data - Duplicates"
      ]
    },
    {
      "cell_type": "code",
      "metadata": {
        "colab": {
          "base_uri": "https://localhost:8080/"
        },
        "id": "tl_viYZRpw2M",
        "outputId": "21cd33f1-d4b2-408f-db2d-005b02803281"
      },
      "source": [
        "# Extraire les lignes dupliquées dans duplicate\n",
        "duplicate_train = train[train.duplicated()]\n",
        "duplicate_test = test[test.duplicated()]\n",
        "\n",
        "print('le pourcentage des lignes dupliquées = {} %'.format(round(len(duplicate_train)/len(train)*100)))\n",
        "print('le pourcentage des lignes dupliquées = {} %'.format(round(len(duplicate_test)/len(test)*100)))"
      ],
      "execution_count": 317,
      "outputs": [
        {
          "output_type": "stream",
          "text": [
            "le pourcentage des lignes dupliquées = 0 %\n",
            "le pourcentage des lignes dupliquées = 0 %\n"
          ],
          "name": "stdout"
        }
      ]
    },
    {
      "cell_type": "markdown",
      "metadata": {
        "id": "MWENCIXjrGOW"
      },
      "source": [
        "# Missing Data"
      ]
    },
    {
      "cell_type": "markdown",
      "metadata": {
        "id": "0XxvzuW3rN3X"
      },
      "source": [
        "## Train"
      ]
    },
    {
      "cell_type": "code",
      "metadata": {
        "colab": {
          "base_uri": "https://localhost:8080/",
          "height": 0
        },
        "id": "_RzwK8w6rJXV",
        "outputId": "8b31d201-1d82-4379-eda4-c2119d040d85"
      },
      "source": [
        "# Heatmap of Missing Values\n",
        "colours = ['#136978', '#ff5e86']\n",
        "sns.heatmap(train.isna(), yticklabels=False, cbar=False, cmap=sns.color_palette(colours))"
      ],
      "execution_count": 318,
      "outputs": [
        {
          "output_type": "execute_result",
          "data": {
            "text/plain": [
              "<matplotlib.axes._subplots.AxesSubplot at 0x7ff5e18f4790>"
            ]
          },
          "metadata": {
            "tags": []
          },
          "execution_count": 318
        },
        {
          "output_type": "display_data",
          "data": {
            "image/png": "[encoded data removed]",
            "text/plain": [
              "<Figure size 432x288 with 1 Axes>"
            ]
          },
          "metadata": {
            "tags": [],
            "needs_background": "light"
          }
        }
      ]
    },
    {
      "cell_type": "code",
      "metadata": {
        "colab": {
          "base_uri": "https://localhost:8080/"
        },
        "id": "NfcHm1nUrcei",
        "outputId": "65c60cd0-5107-49c4-88cf-4b1bba4010e5"
      },
      "source": [
        "# Calculate the % of missing values in each column \n",
        "print('\\nles pourcentages importants des valeurs manquantes: ')\n",
        "#print(df.isna().sum()/len(df))\n",
        "for col in train.columns:\n",
        "  pct_missing = np.mean(train[col].isnull())\n",
        "  rounded_pct = round(pct_missing*100, 2)\n",
        "  if rounded_pct > 10:\n",
        "    print('{} - {}%'.format(col, rounded_pct))"
      ],
      "execution_count": 319,
      "outputs": [
        {
          "output_type": "stream",
          "text": [
            "\n",
            "les pourcentages importants des valeurs manquantes: \n",
            "Age - 19.87%\n",
            "Cabin - 77.1%\n"
          ],
          "name": "stdout"
        }
      ]
    },
    {
      "cell_type": "markdown",
      "metadata": {
        "id": "k80zLa47sKwT"
      },
      "source": [
        "## Test Data"
      ]
    },
    {
      "cell_type": "code",
      "metadata": {
        "colab": {
          "base_uri": "https://localhost:8080/",
          "height": 0
        },
        "id": "idcHuND1sKJO",
        "outputId": "b8ee7fe1-b425-4f24-c6fc-f3ff176fc3f4"
      },
      "source": [
        "# Heatmap of Missing Values\n",
        "colours = ['#136978', '#ff5e86']\n",
        "sns.heatmap(test.isna(), yticklabels=False, cbar=False, cmap=sns.color_palette(colours))"
      ],
      "execution_count": 320,
      "outputs": [
        {
          "output_type": "execute_result",
          "data": {
            "text/plain": [
              "<matplotlib.axes._subplots.AxesSubplot at 0x7ff5e189e050>"
            ]
          },
          "metadata": {
            "tags": []
          },
          "execution_count": 320
        },
        {
          "output_type": "display_data",
          "data": {
            "image/png": "[encoded data removed]",
            "text/plain": [
              "<Figure size 432x288 with 1 Axes>"
            ]
          },
          "metadata": {
            "tags": [],
            "needs_background": "light"
          }
        }
      ]
    },
    {
      "cell_type": "code",
      "metadata": {
        "colab": {
          "base_uri": "https://localhost:8080/"
        },
        "id": "g5FcSD8Fr5ML",
        "outputId": "8f6ce19c-2dac-4535-b0b5-ac4214594710"
      },
      "source": [
        "# Calculate the % of missing values in each column \n",
        "print('\\nles pourcentages importants des valeurs manquantes: ')\n",
        "#print(df.isna().sum()/len(df))\n",
        "for col in test.columns:\n",
        "  pct_missing = np.mean(test[col].isnull())\n",
        "  rounded_pct = round(pct_missing*100, 2)\n",
        "  if rounded_pct > 10:\n",
        "    print('{} - {}%'.format(col, rounded_pct))"
      ],
      "execution_count": 321,
      "outputs": [
        {
          "output_type": "stream",
          "text": [
            "\n",
            "les pourcentages importants des valeurs manquantes: \n",
            "Age - 20.57%\n",
            "Cabin - 78.23%\n"
          ],
          "name": "stdout"
        }
      ]
    },
    {
      "cell_type": "markdown",
      "metadata": {
        "id": "b4jMg2ixvFCv"
      },
      "source": [
        "## Handle Missing Data"
      ]
    },
    {
      "cell_type": "code",
      "metadata": {
        "id": "L3x7077rvJSM"
      },
      "source": [
        "# Drop Cabin & Imputeage with NaN\n",
        "train_cabin = train.Cabin\n",
        "test_cabin = test.Cabin\n",
        "train.drop('Cabin', axis=1, inplace=True)\n",
        "test.drop('Cabin', axis=1, inplace=True)\n",
        "\n",
        "def imputation(df):\n",
        "  for col in df.columns:\n",
        "      df[col].fillna(np.nan, inplace=True)\n",
        "\n",
        "imputation(train);\n",
        "imputation(test);"
      ],
      "execution_count": 322,
      "outputs": []
    },
    {
      "cell_type": "markdown",
      "metadata": {
        "id": "79yh-4SVsm1v"
      },
      "source": [
        "# Numeric Vs non-Numeric Data"
      ]
    },
    {
      "cell_type": "code",
      "metadata": {
        "id": "rpH8EqNjsqZB"
      },
      "source": [
        "num_cols = ['Age', 'SibSp', 'Parch', 'Fare']\n",
        "cat_cols1 = ['Survived','Pclass','Sex','Ticket','Embarked']\n",
        "cat_cols2 = ['Pclass','Sex','Ticket','Embarked']\n",
        "\n",
        "train_num = train[num_cols]\n",
        "train_cat = train[cat_cols1]\n",
        "\n",
        "test_num = test[num_cols]\n",
        "test_cat = test[cat_cols2]"
      ],
      "execution_count": 323,
      "outputs": []
    },
    {
      "cell_type": "markdown",
      "metadata": {
        "id": "nKY6C5IxwEdW"
      },
      "source": [
        "# Outliers"
      ]
    },
    {
      "cell_type": "markdown",
      "metadata": {
        "id": "W07C29gzxJIt"
      },
      "source": [
        "## Train"
      ]
    },
    {
      "cell_type": "code",
      "metadata": {
        "colab": {
          "base_uri": "https://localhost:8080/",
          "height": 1000
        },
        "id": "wQYqbD2pwGLq",
        "outputId": "953a50f1-203f-4679-dbf8-16a0b611e0d1"
      },
      "source": [
        "for i in train_num.columns:\n",
        "  plt.boxplot(train[i], vert=False)\n",
        "  plt.title(i)\n",
        "  plt.show()"
      ],
      "execution_count": 324,
      "outputs": [
        {
          "output_type": "display_data",
          "data": {
            "image/png": "[encoded data removed]",
            "text/plain": [
              "<Figure size 432x288 with 1 Axes>"
            ]
          },
          "metadata": {
            "tags": [],
            "needs_background": "light"
          }
        },
        {
          "output_type": "display_data",
          "data": {
            "image/png": "[encoded data removed]",
            "text/plain": [
              "<Figure size 432x288 with 1 Axes>"
            ]
          },
          "metadata": {
            "tags": [],
            "needs_background": "light"
          }
        },
        {
          "output_type": "display_data",
          "data": {
            "image/png": "[encoded data removed]",
            "text/plain": [
              "<Figure size 432x288 with 1 Axes>"
            ]
          },
          "metadata": {
            "tags": [],
            "needs_background": "light"
          }
        },
        {
          "output_type": "display_data",
          "data": {
            "image/png": "[encoded data removed]",
            "text/plain": [
              "<Figure size 432x288 with 1 Axes>"
            ]
          },
          "metadata": {
            "tags": [],
            "needs_background": "light"
          }
        }
      ]
    },
    {
      "cell_type": "code",
      "metadata": {
        "id": "-mkkZQNVztn2"
      },
      "source": [
        "# Handle outliers in train data\n",
        "# IQR: Interquartile Range Method\n",
        "rows_to_drop = []\n",
        "for col in train_num.columns[1:]:\n",
        "  train = train.sort_values(by=[col])\n",
        "  q1 = train[col].quantile(0.01)\n",
        "  q3 = train[col].quantile(0.99)\n",
        "  iqr = q3 - q1\n",
        "  lower_whisker = q1 - 1.5*iqr\n",
        "  upper_whisker = q3 + 1.5*iqr\n",
        "  l = len(train)\n",
        "  for i in range(0, l):\n",
        "    if (train.loc[train.index[i], col]>upper_whisker) | (train.loc[train.index[i], col]<lower_whisker):\n",
        "      train.loc[train.index[i], col] = np.nan"
      ],
      "execution_count": 325,
      "outputs": []
    },
    {
      "cell_type": "code",
      "metadata": {
        "id": "vJDJ5I8w2U6W"
      },
      "source": [
        "for i in train_num.columns:\n",
        "  plt.boxplot(train[i], vert=False)\n",
        "  plt.title(i)\n",
        "  plt.show()"
      ],
      "execution_count": null,
      "outputs": []
    },
    {
      "cell_type": "markdown",
      "metadata": {
        "id": "JfG0TcyLxTvG"
      },
      "source": [
        "## Test"
      ]
    },
    {
      "cell_type": "code",
      "metadata": {
        "id": "W-XwQ5Fp4PBm"
      },
      "source": [
        "for i in test_num.columns:\n",
        "  plt.boxplot(test[i], vert=False)\n",
        "  plt.title(i)\n",
        "  plt.show()"
      ],
      "execution_count": null,
      "outputs": []
    },
    {
      "cell_type": "code",
      "metadata": {
        "id": "toRaal1zxVH_"
      },
      "source": [
        "# Handle outliers in test data\n",
        "# IQR: Interquartile Range Method\n",
        "rows_to_drop = []\n",
        "for col in test_num.columns[1:]:\n",
        "  test = test.sort_values(by=[col])\n",
        "  q1 = test[col].quantile(0.01)\n",
        "  q3 = test[col].quantile(0.99)\n",
        "  iqr = q3 - q1\n",
        "  lower_whisker = q1 - 1.5*iqr\n",
        "  upper_whisker = q3 + 1.5*iqr\n",
        "  l = len(test)\n",
        "  for i in range(0, l):\n",
        "    if (test.loc[test.index[i], col]>upper_whisker) | (test.loc[test.index[i], col]<lower_whisker):\n",
        "      train.loc[test.index[i], col] = np.nan"
      ],
      "execution_count": 330,
      "outputs": []
    },
    {
      "cell_type": "code",
      "metadata": {
        "id": "ztNv7ZwA5C6a"
      },
      "source": [
        "for i in test_num.columns:\n",
        "  plt.boxplot(test[i], vert=False)\n",
        "  plt.title(i)\n",
        "  plt.show()"
      ],
      "execution_count": null,
      "outputs": []
    },
    {
      "cell_type": "markdown",
      "metadata": {
        "id": "Q2ffOG_OZLRo"
      },
      "source": [
        "# Feature Ecoding"
      ]
    },
    {
      "cell_type": "markdown",
      "metadata": {
        "id": "3ZqI5b80ZRb_"
      },
      "source": [
        "Encode Categorical columns to Numerical ones so that we use them in our ML model"
      ]
    },
    {
      "cell_type": "code",
      "metadata": {
        "id": "WaVh1L3ZZKnp"
      },
      "source": [
        ""
      ],
      "execution_count": null,
      "outputs": []
    },
    {
      "cell_type": "markdown",
      "metadata": {
        "id": "HR-8oIez5UfD"
      },
      "source": [
        "# Visualize target column by other columns"
      ]
    },
    {
      "cell_type": "markdown",
      "metadata": {
        "id": "K5-369teAUT9"
      },
      "source": [
        "## Survived Column"
      ]
    },
    {
      "cell_type": "code",
      "metadata": {
        "colab": {
          "base_uri": "https://localhost:8080/",
          "height": 297
        },
        "id": "If2WNdB37V1n",
        "outputId": "93877c36-c205-40c6-ea63-740794ad4a37"
      },
      "source": [
        "# Target column \"Survived\"\n",
        "sns.countplot(x='Survived', data=train)"
      ],
      "execution_count": 333,
      "outputs": [
        {
          "output_type": "execute_result",
          "data": {
            "text/plain": [
              "<matplotlib.axes._subplots.AxesSubplot at 0x7ff5e20f0490>"
            ]
          },
          "metadata": {
            "tags": []
          },
          "execution_count": 333
        },
        {
          "output_type": "display_data",
          "data": {
            "image/png": "[encoded data removed]",
            "text/plain": [
              "<Figure size 432x288 with 1 Axes>"
            ]
          },
          "metadata": {
            "tags": [],
            "needs_background": "light"
          }
        }
      ]
    },
    {
      "cell_type": "code",
      "metadata": {
        "colab": {
          "base_uri": "https://localhost:8080/"
        },
        "id": "UnelTpWT8vzK",
        "outputId": "f9462973-3f64-4cde-8e17-e315678d5c66"
      },
      "source": [
        "# Percentage of people who survived\n",
        "train.Survived.sum()/train.Survived.count()"
      ],
      "execution_count": 335,
      "outputs": [
        {
          "output_type": "execute_result",
          "data": {
            "text/plain": [
              "0.3838383838383838"
            ]
          },
          "metadata": {
            "tags": []
          },
          "execution_count": 335
        }
      ]
    },
    {
      "cell_type": "markdown",
      "metadata": {
        "id": "eVW_u_t-_d_Y"
      },
      "source": [
        "## By Gender"
      ]
    },
    {
      "cell_type": "code",
      "metadata": {
        "colab": {
          "base_uri": "https://localhost:8080/"
        },
        "id": "-H-eYZgG9HWC",
        "outputId": "f9717a60-ac75-4304-fb5e-2e5f7b844d0d"
      },
      "source": [
        "# The difference between men and women \n",
        "train.groupby(['Survived','Sex'])['Survived'].count()"
      ],
      "execution_count": 337,
      "outputs": [
        {
          "output_type": "execute_result",
          "data": {
            "text/plain": [
              "Survived  Sex   \n",
              "0         female     81\n",
              "          male      468\n",
              "1         female    233\n",
              "          male      109\n",
              "Name: Survived, dtype: int64"
            ]
          },
          "metadata": {
            "tags": []
          },
          "execution_count": 337
        }
      ]
    },
    {
      "cell_type": "code",
      "metadata": {
        "colab": {
          "base_uri": "https://localhost:8080/",
          "height": 401
        },
        "id": "fCHQTBAd9XXL",
        "outputId": "c72040a2-de75-487f-d85f-ae204ca2cbf1"
      },
      "source": [
        "sns.catplot(x='Sex', col='Survived', kind='count', data=train)"
      ],
      "execution_count": 338,
      "outputs": [
        {
          "output_type": "execute_result",
          "data": {
            "text/plain": [
              "<seaborn.axisgrid.FacetGrid at 0x7ff5eb851850>"
            ]
          },
          "metadata": {
            "tags": []
          },
          "execution_count": 338
        },
        {
          "output_type": "display_data",
          "data": {
            "image/png": "[encoded data removed]",
            "text/plain": [
              "<Figure size 720x360 with 2 Axes>"
            ]
          },
          "metadata": {
            "tags": [],
            "needs_background": "light"
          }
        }
      ]
    },
    {
      "cell_type": "code",
      "metadata": {
        "colab": {
          "base_uri": "https://localhost:8080/"
        },
        "id": "c7OgfRau9i8D",
        "outputId": "48fe1695-e0a9-42ca-aec8-8a82f5c8d41e"
      },
      "source": [
        "# % of survival by gender\n",
        "print(\"% of women survived: \" , \n",
        "      train[train.Sex == 'female'].Survived.sum()/train[train.Sex == 'female'].Survived.count())\n",
        "\n",
        "print(\"% of men survived:   \" , \n",
        "      train[train.Sex == 'male'].Survived.sum()/train[train.Sex == 'male'].Survived.count())"
      ],
      "execution_count": 340,
      "outputs": [
        {
          "output_type": "stream",
          "text": [
            "% of women survived:  0.7420382165605095\n",
            "% of men survived:    0.18890814558058924\n"
          ],
          "name": "stdout"
        }
      ]
    },
    {
      "cell_type": "code",
      "metadata": {
        "colab": {
          "base_uri": "https://localhost:8080/",
          "height": 427
        },
        "id": "KNXlhW9C9-td",
        "outputId": "6948cff7-4db4-452e-de72-cfd6f2d25652"
      },
      "source": [
        "f,ax=plt.subplots(1,2,figsize=(16,7))\n",
        "train['Survived'][train['Sex']=='male'].value_counts().plot.pie(explode=[0,0.2],\n",
        "                                              autopct='%1.1f%%',ax=ax[0],shadow=True)\n",
        "train['Survived'][train['Sex']=='female'].value_counts().plot.pie(explode=[0,0.2],\n",
        "                                              autopct='%1.1f%%',ax=ax[1],shadow=True)\n",
        "ax[0].set_title('Survived (male)')\n",
        "ax[1].set_title('Survived (female)')\n",
        "\n",
        "plt.show()"
      ],
      "execution_count": 342,
      "outputs": [
        {
          "output_type": "display_data",
          "data": {
            "image/png": "[encoded data removed]",
            "text/plain": [
              "<Figure size 1152x504 with 2 Axes>"
            ]
          },
          "metadata": {
            "tags": []
          }
        }
      ]
    },
    {
      "cell_type": "markdown",
      "metadata": {
        "id": "RATyur4H_DUi"
      },
      "source": [
        "Women are more likely to survive than men\n",
        "  74% of women survived while only 19% of men did"
      ]
    },
    {
      "cell_type": "markdown",
      "metadata": {
        "id": "haC09FSJ_koc"
      },
      "source": [
        "## By Pclass"
      ]
    },
    {
      "cell_type": "code",
      "metadata": {
        "colab": {
          "base_uri": "https://localhost:8080/",
          "height": 145
        },
        "id": "So-ug7j7_SBy",
        "outputId": "fa5e350d-864a-4176-a2e8-48c98c179cf0"
      },
      "source": [
        "pd.crosstab(train.Pclass, train.Survived, margins=True).style.background_gradient(cmap='autumn_r')"
      ],
      "execution_count": 343,
      "outputs": [
        {
          "output_type": "execute_result",
          "data": {
            "text/html": [
              "<style  type=\"text/css\" >\n",
              "#T_fa55e46a_ae4c_11eb_bcfd_0242ac1c0002row0_col0,#T_fa55e46a_ae4c_11eb_bcfd_0242ac1c0002row1_col1,#T_fa55e46a_ae4c_11eb_bcfd_0242ac1c0002row1_col2{\n",
              "            background-color:  #ffff00;\n",
              "            color:  #000000;\n",
              "        }#T_fa55e46a_ae4c_11eb_bcfd_0242ac1c0002row0_col1{\n",
              "            background-color:  #ffce00;\n",
              "            color:  #000000;\n",
              "        }#T_fa55e46a_ae4c_11eb_bcfd_0242ac1c0002row0_col2{\n",
              "            background-color:  #fff400;\n",
              "            color:  #000000;\n",
              "        }#T_fa55e46a_ae4c_11eb_bcfd_0242ac1c0002row1_col0{\n",
              "            background-color:  #fff600;\n",
              "            color:  #000000;\n",
              "        }#T_fa55e46a_ae4c_11eb_bcfd_0242ac1c0002row2_col0{\n",
              "            background-color:  #ff6000;\n",
              "            color:  #000000;\n",
              "        }#T_fa55e46a_ae4c_11eb_bcfd_0242ac1c0002row2_col1{\n",
              "            background-color:  #ffdf00;\n",
              "            color:  #000000;\n",
              "        }#T_fa55e46a_ae4c_11eb_bcfd_0242ac1c0002row2_col2{\n",
              "            background-color:  #ff9000;\n",
              "            color:  #000000;\n",
              "        }#T_fa55e46a_ae4c_11eb_bcfd_0242ac1c0002row3_col0,#T_fa55e46a_ae4c_11eb_bcfd_0242ac1c0002row3_col1,#T_fa55e46a_ae4c_11eb_bcfd_0242ac1c0002row3_col2{\n",
              "            background-color:  #ff0000;\n",
              "            color:  #f1f1f1;\n",
              "        }</style><table id=\"T_fa55e46a_ae4c_11eb_bcfd_0242ac1c0002\" ><thead>    <tr>        <th class=\"index_name level0\" >Survived</th>        <th class=\"col_heading level0 col0\" >0</th>        <th class=\"col_heading level0 col1\" >1</th>        <th class=\"col_heading level0 col2\" >All</th>    </tr>    <tr>        <th class=\"index_name level0\" >Pclass</th>        <th class=\"blank\" ></th>        <th class=\"blank\" ></th>        <th class=\"blank\" ></th>    </tr></thead><tbody>\n",
              "                <tr>\n",
              "                        <th id=\"T_fa55e46a_ae4c_11eb_bcfd_0242ac1c0002level0_row0\" class=\"row_heading level0 row0\" >1</th>\n",
              "                        <td id=\"T_fa55e46a_ae4c_11eb_bcfd_0242ac1c0002row0_col0\" class=\"data row0 col0\" >80</td>\n",
              "                        <td id=\"T_fa55e46a_ae4c_11eb_bcfd_0242ac1c0002row0_col1\" class=\"data row0 col1\" >136</td>\n",
              "                        <td id=\"T_fa55e46a_ae4c_11eb_bcfd_0242ac1c0002row0_col2\" class=\"data row0 col2\" >216</td>\n",
              "            </tr>\n",
              "            <tr>\n",
              "                        <th id=\"T_fa55e46a_ae4c_11eb_bcfd_0242ac1c0002level0_row1\" class=\"row_heading level0 row1\" >2</th>\n",
              "                        <td id=\"T_fa55e46a_ae4c_11eb_bcfd_0242ac1c0002row1_col0\" class=\"data row1 col0\" >97</td>\n",
              "                        <td id=\"T_fa55e46a_ae4c_11eb_bcfd_0242ac1c0002row1_col1\" class=\"data row1 col1\" >87</td>\n",
              "                        <td id=\"T_fa55e46a_ae4c_11eb_bcfd_0242ac1c0002row1_col2\" class=\"data row1 col2\" >184</td>\n",
              "            </tr>\n",
              "            <tr>\n",
              "                        <th id=\"T_fa55e46a_ae4c_11eb_bcfd_0242ac1c0002level0_row2\" class=\"row_heading level0 row2\" >3</th>\n",
              "                        <td id=\"T_fa55e46a_ae4c_11eb_bcfd_0242ac1c0002row2_col0\" class=\"data row2 col0\" >372</td>\n",
              "                        <td id=\"T_fa55e46a_ae4c_11eb_bcfd_0242ac1c0002row2_col1\" class=\"data row2 col1\" >119</td>\n",
              "                        <td id=\"T_fa55e46a_ae4c_11eb_bcfd_0242ac1c0002row2_col2\" class=\"data row2 col2\" >491</td>\n",
              "            </tr>\n",
              "            <tr>\n",
              "                        <th id=\"T_fa55e46a_ae4c_11eb_bcfd_0242ac1c0002level0_row3\" class=\"row_heading level0 row3\" >All</th>\n",
              "                        <td id=\"T_fa55e46a_ae4c_11eb_bcfd_0242ac1c0002row3_col0\" class=\"data row3 col0\" >549</td>\n",
              "                        <td id=\"T_fa55e46a_ae4c_11eb_bcfd_0242ac1c0002row3_col1\" class=\"data row3 col1\" >342</td>\n",
              "                        <td id=\"T_fa55e46a_ae4c_11eb_bcfd_0242ac1c0002row3_col2\" class=\"data row3 col2\" >891</td>\n",
              "            </tr>\n",
              "    </tbody></table>"
            ],
            "text/plain": [
              "<pandas.io.formats.style.Styler at 0x7ff5e21a4750>"
            ]
          },
          "metadata": {
            "tags": []
          },
          "execution_count": 343
        }
      ]
    },
    {
      "cell_type": "code",
      "metadata": {
        "colab": {
          "base_uri": "https://localhost:8080/"
        },
        "id": "ykJUjDVb_2aR",
        "outputId": "2dd5f4be-d665-4d46-ba5e-42557433571a"
      },
      "source": [
        "print(\"% of survivals in\") \n",
        "print(\"Pclass=1 : \", train.Survived[train.Pclass == 1].sum()/train[train.Pclass == 1].Survived.count())\n",
        "print(\"Pclass=2 : \", train.Survived[train.Pclass == 2].sum()/train[train.Pclass == 2].Survived.count())\n",
        "print(\"Pclass=3 : \", train.Survived[train.Pclass == 3].sum()/train[train.Pclass == 3].Survived.count())"
      ],
      "execution_count": 344,
      "outputs": [
        {
          "output_type": "stream",
          "text": [
            "% of survivals in\n",
            "Pclass=1 :  0.6296296296296297\n",
            "Pclass=2 :  0.47282608695652173\n",
            "Pclass=3 :  0.24236252545824846\n"
          ],
          "name": "stdout"
        }
      ]
    },
    {
      "cell_type": "code",
      "metadata": {
        "colab": {
          "base_uri": "https://localhost:8080/",
          "height": 439
        },
        "id": "2Q6RTFDxADUr",
        "outputId": "594bd930-4097-4438-d284-643928b951c2"
      },
      "source": [
        "sns.catplot('Pclass','Survived', kind='point', data=train);"
      ],
      "execution_count": 345,
      "outputs": [
        {
          "output_type": "stream",
          "text": [
            "/usr/local/lib/python3.7/dist-packages/seaborn/_decorators.py:43: FutureWarning: Pass the following variables as keyword args: x, y. From version 0.12, the only valid positional argument will be `data`, and passing other arguments without an explicit keyword will result in an error or misinterpretation.\n",
            "  FutureWarning\n"
          ],
          "name": "stderr"
        },
        {
          "output_type": "display_data",
          "data": {
            "image/png": "[encoded data removed]",
            "text/plain": [
              "<Figure size 360x360 with 1 Axes>"
            ]
          },
          "metadata": {
            "tags": [],
            "needs_background": "light"
          }
        }
      ]
    },
    {
      "cell_type": "markdown",
      "metadata": {
        "id": "pnP8iG_QAN9j"
      },
      "source": [
        "## Class & Gender"
      ]
    },
    {
      "cell_type": "code",
      "metadata": {
        "colab": {
          "base_uri": "https://localhost:8080/",
          "height": 165
        },
        "id": "bO0_Q5mvALsc",
        "outputId": "34d28dbe-aaa4-4dae-b689-55e491c61e2c"
      },
      "source": [
        "pd.crosstab([train.Sex, train.Survived], train.Pclass, margins=True).style.background_gradient(cmap='autumn_r')"
      ],
      "execution_count": 347,
      "outputs": [
        {
          "output_type": "execute_result",
          "data": {
            "text/html": [
              "<style  type=\"text/css\" >\n",
              "#T_4343beec_ae5a_11eb_bcfd_0242ac1c0002row0_col0,#T_4343beec_ae5a_11eb_bcfd_0242ac1c0002row0_col1,#T_4343beec_ae5a_11eb_bcfd_0242ac1c0002row0_col3,#T_4343beec_ae5a_11eb_bcfd_0242ac1c0002row3_col2{\n",
              "            background-color:  #ffff00;\n",
              "            color:  #000000;\n",
              "        }#T_4343beec_ae5a_11eb_bcfd_0242ac1c0002row0_col2,#T_4343beec_ae5a_11eb_bcfd_0242ac1c0002row1_col2{\n",
              "            background-color:  #fff100;\n",
              "            color:  #000000;\n",
              "        }#T_4343beec_ae5a_11eb_bcfd_0242ac1c0002row1_col0{\n",
              "            background-color:  #ff9600;\n",
              "            color:  #000000;\n",
              "        }#T_4343beec_ae5a_11eb_bcfd_0242ac1c0002row1_col1{\n",
              "            background-color:  #ffa300;\n",
              "            color:  #000000;\n",
              "        }#T_4343beec_ae5a_11eb_bcfd_0242ac1c0002row1_col3{\n",
              "            background-color:  #ffcf00;\n",
              "            color:  #000000;\n",
              "        }#T_4343beec_ae5a_11eb_bcfd_0242ac1c0002row2_col0{\n",
              "            background-color:  #ffa700;\n",
              "            color:  #000000;\n",
              "        }#T_4343beec_ae5a_11eb_bcfd_0242ac1c0002row2_col1,#T_4343beec_ae5a_11eb_bcfd_0242ac1c0002row2_col3{\n",
              "            background-color:  #ff8500;\n",
              "            color:  #000000;\n",
              "        }#T_4343beec_ae5a_11eb_bcfd_0242ac1c0002row2_col2{\n",
              "            background-color:  #ff6e00;\n",
              "            color:  #000000;\n",
              "        }#T_4343beec_ae5a_11eb_bcfd_0242ac1c0002row3_col0{\n",
              "            background-color:  #ffcd00;\n",
              "            color:  #000000;\n",
              "        }#T_4343beec_ae5a_11eb_bcfd_0242ac1c0002row3_col1{\n",
              "            background-color:  #fff000;\n",
              "            color:  #000000;\n",
              "        }#T_4343beec_ae5a_11eb_bcfd_0242ac1c0002row3_col3{\n",
              "            background-color:  #fff700;\n",
              "            color:  #000000;\n",
              "        }#T_4343beec_ae5a_11eb_bcfd_0242ac1c0002row4_col0,#T_4343beec_ae5a_11eb_bcfd_0242ac1c0002row4_col1,#T_4343beec_ae5a_11eb_bcfd_0242ac1c0002row4_col2,#T_4343beec_ae5a_11eb_bcfd_0242ac1c0002row4_col3{\n",
              "            background-color:  #ff0000;\n",
              "            color:  #f1f1f1;\n",
              "        }</style><table id=\"T_4343beec_ae5a_11eb_bcfd_0242ac1c0002\" ><thead>    <tr>        <th class=\"blank\" ></th>        <th class=\"index_name level0\" >Pclass</th>        <th class=\"col_heading level0 col0\" >1</th>        <th class=\"col_heading level0 col1\" >2</th>        <th class=\"col_heading level0 col2\" >3</th>        <th class=\"col_heading level0 col3\" >All</th>    </tr>    <tr>        <th class=\"index_name level0\" >Sex</th>        <th class=\"index_name level1\" >Survived</th>        <th class=\"blank\" ></th>        <th class=\"blank\" ></th>        <th class=\"blank\" ></th>        <th class=\"blank\" ></th>    </tr></thead><tbody>\n",
              "                <tr>\n",
              "                        <th id=\"T_4343beec_ae5a_11eb_bcfd_0242ac1c0002level0_row0\" class=\"row_heading level0 row0\" rowspan=2>female</th>\n",
              "                        <th id=\"T_4343beec_ae5a_11eb_bcfd_0242ac1c0002level1_row0\" class=\"row_heading level1 row0\" >0</th>\n",
              "                        <td id=\"T_4343beec_ae5a_11eb_bcfd_0242ac1c0002row0_col0\" class=\"data row0 col0\" >3</td>\n",
              "                        <td id=\"T_4343beec_ae5a_11eb_bcfd_0242ac1c0002row0_col1\" class=\"data row0 col1\" >6</td>\n",
              "                        <td id=\"T_4343beec_ae5a_11eb_bcfd_0242ac1c0002row0_col2\" class=\"data row0 col2\" >72</td>\n",
              "                        <td id=\"T_4343beec_ae5a_11eb_bcfd_0242ac1c0002row0_col3\" class=\"data row0 col3\" >81</td>\n",
              "            </tr>\n",
              "            <tr>\n",
              "                                <th id=\"T_4343beec_ae5a_11eb_bcfd_0242ac1c0002level1_row1\" class=\"row_heading level1 row1\" >1</th>\n",
              "                        <td id=\"T_4343beec_ae5a_11eb_bcfd_0242ac1c0002row1_col0\" class=\"data row1 col0\" >91</td>\n",
              "                        <td id=\"T_4343beec_ae5a_11eb_bcfd_0242ac1c0002row1_col1\" class=\"data row1 col1\" >70</td>\n",
              "                        <td id=\"T_4343beec_ae5a_11eb_bcfd_0242ac1c0002row1_col2\" class=\"data row1 col2\" >72</td>\n",
              "                        <td id=\"T_4343beec_ae5a_11eb_bcfd_0242ac1c0002row1_col3\" class=\"data row1 col3\" >233</td>\n",
              "            </tr>\n",
              "            <tr>\n",
              "                        <th id=\"T_4343beec_ae5a_11eb_bcfd_0242ac1c0002level0_row2\" class=\"row_heading level0 row2\" rowspan=2>male</th>\n",
              "                        <th id=\"T_4343beec_ae5a_11eb_bcfd_0242ac1c0002level1_row2\" class=\"row_heading level1 row2\" >0</th>\n",
              "                        <td id=\"T_4343beec_ae5a_11eb_bcfd_0242ac1c0002row2_col0\" class=\"data row2 col0\" >77</td>\n",
              "                        <td id=\"T_4343beec_ae5a_11eb_bcfd_0242ac1c0002row2_col1\" class=\"data row2 col1\" >91</td>\n",
              "                        <td id=\"T_4343beec_ae5a_11eb_bcfd_0242ac1c0002row2_col2\" class=\"data row2 col2\" >300</td>\n",
              "                        <td id=\"T_4343beec_ae5a_11eb_bcfd_0242ac1c0002row2_col3\" class=\"data row2 col3\" >468</td>\n",
              "            </tr>\n",
              "            <tr>\n",
              "                                <th id=\"T_4343beec_ae5a_11eb_bcfd_0242ac1c0002level1_row3\" class=\"row_heading level1 row3\" >1</th>\n",
              "                        <td id=\"T_4343beec_ae5a_11eb_bcfd_0242ac1c0002row3_col0\" class=\"data row3 col0\" >45</td>\n",
              "                        <td id=\"T_4343beec_ae5a_11eb_bcfd_0242ac1c0002row3_col1\" class=\"data row3 col1\" >17</td>\n",
              "                        <td id=\"T_4343beec_ae5a_11eb_bcfd_0242ac1c0002row3_col2\" class=\"data row3 col2\" >47</td>\n",
              "                        <td id=\"T_4343beec_ae5a_11eb_bcfd_0242ac1c0002row3_col3\" class=\"data row3 col3\" >109</td>\n",
              "            </tr>\n",
              "            <tr>\n",
              "                        <th id=\"T_4343beec_ae5a_11eb_bcfd_0242ac1c0002level0_row4\" class=\"row_heading level0 row4\" >All</th>\n",
              "                        <th id=\"T_4343beec_ae5a_11eb_bcfd_0242ac1c0002level1_row4\" class=\"row_heading level1 row4\" ></th>\n",
              "                        <td id=\"T_4343beec_ae5a_11eb_bcfd_0242ac1c0002row4_col0\" class=\"data row4 col0\" >216</td>\n",
              "                        <td id=\"T_4343beec_ae5a_11eb_bcfd_0242ac1c0002row4_col1\" class=\"data row4 col1\" >184</td>\n",
              "                        <td id=\"T_4343beec_ae5a_11eb_bcfd_0242ac1c0002row4_col2\" class=\"data row4 col2\" >491</td>\n",
              "                        <td id=\"T_4343beec_ae5a_11eb_bcfd_0242ac1c0002row4_col3\" class=\"data row4 col3\" >891</td>\n",
              "            </tr>\n",
              "    </tbody></table>"
            ],
            "text/plain": [
              "<pandas.io.formats.style.Styler at 0x7ff5dd40e290>"
            ]
          },
          "metadata": {
            "tags": []
          },
          "execution_count": 347
        }
      ]
    },
    {
      "cell_type": "markdown",
      "metadata": {
        "id": "NS3KG4a0VgzR"
      },
      "source": [
        "Almost all women in Pclass 1 and 2 survived and nearly all men in Pclass 2 and 3 died"
      ]
    },
    {
      "cell_type": "code",
      "metadata": {
        "id": "XbnkTHifVjno",
        "outputId": "d0d9c67a-a416-4e41-9bfc-05115c1f1f3d",
        "colab": {
          "base_uri": "https://localhost:8080/",
          "height": 439
        }
      },
      "source": [
        "sns.catplot('Pclass','Survived',hue='Sex', kind='point', data=train);"
      ],
      "execution_count": 348,
      "outputs": [
        {
          "output_type": "stream",
          "text": [
            "/usr/local/lib/python3.7/dist-packages/seaborn/_decorators.py:43: FutureWarning: Pass the following variables as keyword args: x, y. From version 0.12, the only valid positional argument will be `data`, and passing other arguments without an explicit keyword will result in an error or misinterpretation.\n",
            "  FutureWarning\n"
          ],
          "name": "stderr"
        },
        {
          "output_type": "display_data",
          "data": {
            "image/png": "[encoded data removed]",
            "text/plain": [
              "<Figure size 430.5x360 with 1 Axes>"
            ]
          },
          "metadata": {
            "tags": [],
            "needs_background": "light"
          }
        }
      ]
    },
    {
      "cell_type": "markdown",
      "metadata": {
        "id": "-BIB4PjYWDR0"
      },
      "source": [
        "## Embarked"
      ]
    },
    {
      "cell_type": "code",
      "metadata": {
        "id": "qO1hjef0WFg1",
        "outputId": "378361ab-b911-4cfb-f51b-5b71939d66e6",
        "colab": {
          "base_uri": "https://localhost:8080/",
          "height": 368
        }
      },
      "source": [
        "sns.catplot(x='Survived', col='Embarked', kind='count', data=train);"
      ],
      "execution_count": 349,
      "outputs": [
        {
          "output_type": "display_data",
          "data": {
            "image/png": "[encoded data removed]",
            "text/plain": [
              "<Figure size 1080x360 with 3 Axes>"
            ]
          },
          "metadata": {
            "tags": [],
            "needs_background": "light"
          }
        }
      ]
    },
    {
      "cell_type": "markdown",
      "metadata": {
        "id": "TkYnjQoBWJje"
      },
      "source": [
        "Survival rate are lowest for S and highest for C"
      ]
    },
    {
      "cell_type": "code",
      "metadata": {
        "id": "Da9rpoVgWOy4",
        "outputId": "94ce36be-1bc4-4b56-8378-ba18ced6560b",
        "colab": {
          "base_uri": "https://localhost:8080/",
          "height": 439
        }
      },
      "source": [
        "sns.catplot('Embarked','Survived', kind='point', data=train);"
      ],
      "execution_count": 350,
      "outputs": [
        {
          "output_type": "stream",
          "text": [
            "/usr/local/lib/python3.7/dist-packages/seaborn/_decorators.py:43: FutureWarning: Pass the following variables as keyword args: x, y. From version 0.12, the only valid positional argument will be `data`, and passing other arguments without an explicit keyword will result in an error or misinterpretation.\n",
            "  FutureWarning\n"
          ],
          "name": "stderr"
        },
        {
          "output_type": "display_data",
          "data": {
            "image/png": "[encoded data removed]",
            "text/plain": [
              "<Figure size 360x360 with 1 Axes>"
            ]
          },
          "metadata": {
            "tags": [],
            "needs_background": "light"
          }
        }
      ]
    },
    {
      "cell_type": "code",
      "metadata": {
        "id": "ch6GPsQLWU7O",
        "outputId": "c44f5990-c6f8-4b72-c2fc-e7a5109b58fe",
        "colab": {
          "base_uri": "https://localhost:8080/",
          "height": 439
        }
      },
      "source": [
        "# Embarked and Sex\n",
        "sns.catplot('Embarked','Survived', hue= 'Sex', kind='point', data=train);"
      ],
      "execution_count": 351,
      "outputs": [
        {
          "output_type": "stream",
          "text": [
            "/usr/local/lib/python3.7/dist-packages/seaborn/_decorators.py:43: FutureWarning: Pass the following variables as keyword args: x, y. From version 0.12, the only valid positional argument will be `data`, and passing other arguments without an explicit keyword will result in an error or misinterpretation.\n",
            "  FutureWarning\n"
          ],
          "name": "stderr"
        },
        {
          "output_type": "display_data",
          "data": {
            "image/png": "[encoded data removed]",
            "text/plain": [
              "<Figure size 430.5x360 with 1 Axes>"
            ]
          },
          "metadata": {
            "tags": [],
            "needs_background": "light"
          }
        }
      ]
    },
    {
      "cell_type": "code",
      "metadata": {
        "id": "gmGrBt8LWfHf",
        "outputId": "9c93e405-18a3-4ecc-88cf-dd499abc7788",
        "colab": {
          "base_uri": "https://localhost:8080/",
          "height": 228
        }
      },
      "source": [
        "# Gender, Pclass and Embarked\n",
        "pd.crosstab([train.Survived], [train.Sex, train.Pclass, train.Embarked], margins=True)"
      ],
      "execution_count": 352,
      "outputs": [
        {
          "output_type": "execute_result",
          "data": {
            "text/html": [
              "<div>\n",
              "<style scoped>\n",
              "    .dataframe tbody tr th:only-of-type {\n",
              "        vertical-align: middle;\n",
              "    }\n",
              "\n",
              "    .dataframe tbody tr th {\n",
              "        vertical-align: top;\n",
              "    }\n",
              "\n",
              "    .dataframe thead tr th {\n",
              "        text-align: left;\n",
              "    }\n",
              "\n",
              "    .dataframe thead tr:last-of-type th {\n",
              "        text-align: right;\n",
              "    }\n",
              "</style>\n",
              "<table border=\"1\" class=\"dataframe\">\n",
              "  <thead>\n",
              "    <tr>\n",
              "      <th>Sex</th>\n",
              "      <th colspan=\"9\" halign=\"left\">female</th>\n",
              "      <th colspan=\"9\" halign=\"left\">male</th>\n",
              "      <th>All</th>\n",
              "    </tr>\n",
              "    <tr>\n",
              "      <th>Pclass</th>\n",
              "      <th colspan=\"3\" halign=\"left\">1</th>\n",
              "      <th colspan=\"3\" halign=\"left\">2</th>\n",
              "      <th colspan=\"3\" halign=\"left\">3</th>\n",
              "      <th colspan=\"3\" halign=\"left\">1</th>\n",
              "      <th colspan=\"3\" halign=\"left\">2</th>\n",
              "      <th colspan=\"3\" halign=\"left\">3</th>\n",
              "      <th></th>\n",
              "    </tr>\n",
              "    <tr>\n",
              "      <th>Embarked</th>\n",
              "      <th>C</th>\n",
              "      <th>Q</th>\n",
              "      <th>S</th>\n",
              "      <th>C</th>\n",
              "      <th>Q</th>\n",
              "      <th>S</th>\n",
              "      <th>C</th>\n",
              "      <th>Q</th>\n",
              "      <th>S</th>\n",
              "      <th>C</th>\n",
              "      <th>Q</th>\n",
              "      <th>S</th>\n",
              "      <th>C</th>\n",
              "      <th>Q</th>\n",
              "      <th>S</th>\n",
              "      <th>C</th>\n",
              "      <th>Q</th>\n",
              "      <th>S</th>\n",
              "      <th></th>\n",
              "    </tr>\n",
              "    <tr>\n",
              "      <th>Survived</th>\n",
              "      <th></th>\n",
              "      <th></th>\n",
              "      <th></th>\n",
              "      <th></th>\n",
              "      <th></th>\n",
              "      <th></th>\n",
              "      <th></th>\n",
              "      <th></th>\n",
              "      <th></th>\n",
              "      <th></th>\n",
              "      <th></th>\n",
              "      <th></th>\n",
              "      <th></th>\n",
              "      <th></th>\n",
              "      <th></th>\n",
              "      <th></th>\n",
              "      <th></th>\n",
              "      <th></th>\n",
              "      <th></th>\n",
              "    </tr>\n",
              "  </thead>\n",
              "  <tbody>\n",
              "    <tr>\n",
              "      <th>0</th>\n",
              "      <td>1</td>\n",
              "      <td>0</td>\n",
              "      <td>2</td>\n",
              "      <td>0</td>\n",
              "      <td>0</td>\n",
              "      <td>6</td>\n",
              "      <td>8</td>\n",
              "      <td>9</td>\n",
              "      <td>55</td>\n",
              "      <td>25</td>\n",
              "      <td>1</td>\n",
              "      <td>51</td>\n",
              "      <td>8</td>\n",
              "      <td>1</td>\n",
              "      <td>82</td>\n",
              "      <td>33</td>\n",
              "      <td>36</td>\n",
              "      <td>231</td>\n",
              "      <td>549</td>\n",
              "    </tr>\n",
              "    <tr>\n",
              "      <th>1</th>\n",
              "      <td>42</td>\n",
              "      <td>1</td>\n",
              "      <td>46</td>\n",
              "      <td>7</td>\n",
              "      <td>2</td>\n",
              "      <td>61</td>\n",
              "      <td>15</td>\n",
              "      <td>24</td>\n",
              "      <td>33</td>\n",
              "      <td>17</td>\n",
              "      <td>0</td>\n",
              "      <td>28</td>\n",
              "      <td>2</td>\n",
              "      <td>0</td>\n",
              "      <td>15</td>\n",
              "      <td>10</td>\n",
              "      <td>3</td>\n",
              "      <td>34</td>\n",
              "      <td>340</td>\n",
              "    </tr>\n",
              "    <tr>\n",
              "      <th>All</th>\n",
              "      <td>43</td>\n",
              "      <td>1</td>\n",
              "      <td>48</td>\n",
              "      <td>7</td>\n",
              "      <td>2</td>\n",
              "      <td>67</td>\n",
              "      <td>23</td>\n",
              "      <td>33</td>\n",
              "      <td>88</td>\n",
              "      <td>42</td>\n",
              "      <td>1</td>\n",
              "      <td>79</td>\n",
              "      <td>10</td>\n",
              "      <td>1</td>\n",
              "      <td>97</td>\n",
              "      <td>43</td>\n",
              "      <td>39</td>\n",
              "      <td>265</td>\n",
              "      <td>889</td>\n",
              "    </tr>\n",
              "  </tbody>\n",
              "</table>\n",
              "</div>"
            ],
            "text/plain": [
              "Sex      female                           ... male                          All\n",
              "Pclass        1         2          3      ...    1   2          3              \n",
              "Embarked      C  Q   S  C  Q   S   C   Q  ...    S   C  Q   S   C   Q    S     \n",
              "Survived                                  ...                                  \n",
              "0             1  0   2  0  0   6   8   9  ...   51   8  1  82  33  36  231  549\n",
              "1            42  1  46  7  2  61  15  24  ...   28   2  0  15  10   3   34  340\n",
              "All          43  1  48  7  2  67  23  33  ...   79  10  1  97  43  39  265  889\n",
              "\n",
              "[3 rows x 19 columns]"
            ]
          },
          "metadata": {
            "tags": []
          },
          "execution_count": 352
        }
      ]
    },
    {
      "cell_type": "markdown",
      "metadata": {
        "id": "2C5fmNqEYU0_"
      },
      "source": [
        "## SibSp"
      ]
    },
    {
      "cell_type": "code",
      "metadata": {
        "id": "mDcGadXtYUEf"
      },
      "source": [
        "def plot_count_dist(data, bin_df, label_column, target_column, figsize=(20,10), use_bin_df=False):\n",
        "  '''\n",
        "  This function creates count and distribution Visualistion between chosed columns\n",
        "  '''\n",
        "  if use_bin_df:\n",
        "    fig = plt.figure(figsize=figsize)\n",
        "    plt.subplot(1, 2, 1)\n",
        "    sns.distplot(data.loc[data[label_column]==1][target_column],\n",
        "                kde_kws={'label':'Survived'});\n",
        "    sns.distplot(data.loc[data[label_column]==0][target_column],\n",
        "                kde_kws={'label':'Did not survive'});\n",
        "    \n",
        "  else:\n",
        "    fig = plt.figure(figsize=figsize)\n",
        "    plt.subplot(1, 2, 1)\n",
        "    sns.countplot(y=target_column, data=data);\n",
        "    plt.subplot(1, 2, 2)\n",
        "    sns.distplot(data.loc[data[label_column]==1][target_column],\n",
        "                kde_kws={'label':'Survived'});\n",
        "    sns.distplot(data.loc[data[label_column]==0][target_column],\n",
        "                kde_kws={'label':'Did not survive'});"
      ],
      "execution_count": null,
      "outputs": []
    },
    {
      "cell_type": "markdown",
      "metadata": {
        "id": "hEk9CoV0XpLM"
      },
      "source": [
        "# Fill Age' Missing Values with Mean"
      ]
    },
    {
      "cell_type": "code",
      "metadata": {
        "id": "z5UcF9IaW5am"
      },
      "source": [
        "train['Age'].fillna(train.Age.mean(), inplace=True)\n",
        "test['Age'].fillna(test.Age.mean(), inplace=True)"
      ],
      "execution_count": 353,
      "outputs": []
    },
    {
      "cell_type": "markdown",
      "metadata": {
        "id": "syLZ1nysXbBT"
      },
      "source": [
        "# Data Wrangling"
      ]
    }
  ]
}